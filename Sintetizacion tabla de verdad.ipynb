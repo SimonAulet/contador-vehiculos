{
 "cells": [
  {
   "cell_type": "markdown",
   "id": "4e178223-7678-4667-8942-f631de853f72",
   "metadata": {},
   "source": [
    "# Logica secuencuial a partir de la tabla de verdad"
   ]
  },
  {
   "cell_type": "markdown",
   "id": "8e5a582d-aaed-43e8-950c-48c54dede669",
   "metadata": {},
   "source": [
    "A partir de la tabla de verdad que pongo a continuación uso `sympy.symbols` para sacar las expresiones booleanas de las 4 salidas"
   ]
  },
  {
   "cell_type": "markdown",
   "id": "5fdff521-afae-4258-b9bb-576293d82a12",
   "metadata": {},
   "source": [
    "- SC: Señal de contador (lleno 1, caso contrario 0)\n",
    "- b1: Botón de accionado para ENTRADA de vehículos\n",
    "- b2: Botón de accionado para SALIDA de vehículos\n",
    "- B1: Barra mecánica de ENTRADA\n",
    "- B2: Barra mecánica de SALIDA\n",
    "- SR: Señal de suma o resta del contador (S(Suma) = 1, S(Resta) = 0)\n",
    "- S: Señal si se hace una acción en el contador o no (Se hace acción 1, CC 0)\n",
    "\n",
    "\n",
    "| SC | b2 | b1 | SR | S | B2 | B1 |\n",
    "|----|----|----|----|---|----|----|\n",
    "| IN | IN | IN |OUT |OUT|OUT | OUT|\n",
    "| 0  | 0  | 0  | X  | 0 | 0  | 0  |\n",
    "| 0  | 0  | 1  | 1  | 1 | 0  | 1  |\n",
    "| 0  | 1  | 0  | 0  | 1 | 1  | 0  |\n",
    "| 0  | 1  | 1  | X  | 0 | 1  | 1  |\n",
    "| 1  | 0  | 0  | X  | 0 | 0  | 0  |\n",
    "| 1  | 0  | 1  | X  | 0 | 0  | 0  |\n",
    "| 1  | 1  | 0  | 0  | 1 | 1  | 0  |\n",
    "| 1  | 1  | 1  | X  | 0 | 1  | 1  |"
   ]
  },
  {
   "cell_type": "code",
   "execution_count": 4,
   "id": "4be98dbd-d1b6-4300-86b9-b598fef7989b",
   "metadata": {},
   "outputs": [],
   "source": [
    "from sympy.logic import SOPform\n",
    "from sympy import symbols\n",
    "from sympy import init_printing\n",
    "init_printing()"
   ]
  },
  {
   "cell_type": "code",
   "execution_count": 10,
   "id": "675b7200-77ba-438f-ae21-ed9457b9945b",
   "metadata": {},
   "outputs": [],
   "source": [
    "SC, b2, b1 = symbols('SC b2 b1') #Entradas\n",
    "\n",
    "minterms_SR = [[0, 0, 1]]\n",
    "dontcare_SR = [[0, 0, 0], [0, 1, 1], [1, 0, 0], [1, 0, 1], [1, 1, 1]]#Especifico el dontcare, sympy lo soporta\n",
    "minterms_S  = [[0, 0, 1], [0, 1, 0], [1, 1, 0]]\n",
    "minterms_B2 = [[0, 1, 0], [0, 1, 1], [1, 1, 0], [1, 1, 1]]\n",
    "minterms_B1 = [[0, 0, 1], [0, 1, 1], [1, 1, 1]]\n",
    "\n",
    "#Salidas en forma SOP\n",
    "SR = SOPform([SC, b2, b1], minterms_SR, dontcare_SR)\n",
    "S  = SOPform([SC, b2, b1], minterms_S)\n",
    "B2 = SOPform([SC, b2, b1], minterms_B2)\n",
    "B1 = SOPform([SC, b2, b1], minterms_B1)"
   ]
  },
  {
   "cell_type": "code",
   "execution_count": 11,
   "id": "de7f04c3-9f20-4505-afb1-7c57ce507151",
   "metadata": {},
   "outputs": [
    {
     "data": {
      "image/png": "[encoded data removed]",
      "text/latex": [
       "$\\displaystyle \\neg b_{2}$"
      ],
      "text/plain": [
       "¬b₂"
      ]
     },
     "execution_count": 11,
     "metadata": {},
     "output_type": "execute_result"
    }
   ],
   "source": [
    "SR"
   ]
  },
  {
   "cell_type": "code",
   "execution_count": 12,
   "id": "100c8e53-a701-4517-bed0-ea20fc0586b2",
   "metadata": {},
   "outputs": [
    {
     "data": {
      "image/png": "[encoded data removed]",
      "text/latex": [
       "$\\displaystyle \\left(b_{2} \\wedge \\neg b_{1}\\right) \\vee \\left(b_{1} \\wedge \\neg SC \\wedge \\neg b_{2}\\right)$"
      ],
      "text/plain": [
       "(b₂ ∧ ¬b₁) ∨ (b₁ ∧ ¬SC ∧ ¬b₂)"
      ]
     },
     "execution_count": 12,
     "metadata": {},
     "output_type": "execute_result"
    }
   ],
   "source": [
    "S"
   ]
  },
  {
   "cell_type": "code",
   "execution_count": 13,
   "id": "1c4d5f68-1455-4f70-b6d8-b941e9d6a9ad",
   "metadata": {},
   "outputs": [
    {
     "data": {
      "image/png": "[encoded data removed]",
      "text/latex": [
       "$\\displaystyle b_{2}$"
      ],
      "text/plain": [
       "b₂"
      ]
     },
     "execution_count": 13,
     "metadata": {},
     "output_type": "execute_result"
    }
   ],
   "source": [
    "B2"
   ]
  },
  {
   "cell_type": "code",
   "execution_count": 14,
   "id": "726447ac-2a3b-4582-b644-e21af5b7db9e",
   "metadata": {},
   "outputs": [
    {
     "data": {
      "image/png": "[encoded data removed]",
      "text/latex": [
       "$\\displaystyle \\left(b_{1} \\wedge b_{2}\\right) \\vee \\left(b_{1} \\wedge \\neg SC\\right)$"
      ],
      "text/plain": [
       "(b₁ ∧ b₂) ∨ (b₁ ∧ ¬SC)"
      ]
     },
     "execution_count": 14,
     "metadata": {},
     "output_type": "execute_result"
    }
   ],
   "source": [
    "B1"
   ]
  },
  {
   "cell_type": "markdown",
   "id": "e4022e96-cb20-409f-83c1-818ae9b8930e",
   "metadata": {},
   "source": [
    "Bien, entonces queda:\n",
    "\n",
    "- $\\displaystyle SR = \\overline{b_2}$\n",
    "\n",
    "- $\\displaystyle S = \\left(b_2 \\cdot \\overline{b_1}\\right) + \\left(b_1 \\cdot \\overline{SC} \\cdot \\overline{b_2}\\right)$\n",
    "\n",
    "- $\\displaystyle B_2 = b_2$\n",
    "\n",
    "- $\\displaystyle B_1 = \\left( b_1 \\cdot b_2 \\right) + \\left(b_1 \\cdot \\overline{SC}\\right)$"
   ]
  }
 ],
 "metadata": {
  "jupytext": {
   "formats": "ipynb,py:percent"
  },
  "kernelspec": {
   "display_name": "Python 3 (ipykernel)",
   "language": "python",
   "name": "python3"
  },
  "language_info": {
   "codemirror_mode": {
    "name": "ipython",
    "version": 3
   },
   "file_extension": ".py",
   "mimetype": "text/x-python",
   "name": "python",
   "nbconvert_exporter": "python",
   "pygments_lexer": "ipython3",
   "version": "3.12.11"
  }
 },
 "nbformat": 4,
 "nbformat_minor": 5
}
