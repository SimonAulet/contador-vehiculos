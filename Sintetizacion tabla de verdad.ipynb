{
 "cells": [
  {
   "cell_type": "markdown",
   "id": "5fdff521-afae-4258-b9bb-576293d82a12",
   "metadata": {},
   "source": [
    "| SC | B2 | B1 | SR | S | B2 | B1 |\n",
    "|----|----|----|----|---|----|----|\n",
    "| IN | IN | IN |OUT |OUT|OUT | OUT|\n",
    "| 0  | 0  | 0  | X  | 0 | 0  | 0  |\n",
    "| 0  | 0  | 1  | 1  | 1 | 0  | 1  |\n",
    "| 0  | 1  | 0  | 0  | 1 | 1  | 0  |\n",
    "| 0  | 1  | 1  | X  | 0 | 1  | 1  |\n",
    "| 1  | 0  | 0  | X  | 0 | 0  | 0  |\n",
    "| 1  | 0  | 1  | X  | 0 | 0  | 0  |\n",
    "| 1  | 1  | 0  | 0  | 1 | 1  | 0  |\n",
    "| 1  | 1  | 1  | X  | 0 | 1  | 1  |\n"
   ]
  },
  {
   "cell_type": "code",
   "execution_count": 7,
   "id": "4be98dbd-d1b6-4300-86b9-b598fef7989b",
   "metadata": {},
   "outputs": [],
   "source": [
    "from sympy.logic import SOPform\n",
    "from sympy import symbols"
   ]
  },
  {
   "cell_type": "code",
   "execution_count": 15,
   "id": "675b7200-77ba-438f-ae21-ed9457b9945b",
   "metadata": {},
   "outputs": [
    {
     "data": {
      "text/latex": [
       "$\\displaystyle \\neg B_{2}$"
      ],
      "text/plain": [
       "~B2"
      ]
     },
     "execution_count": 15,
     "metadata": {},
     "output_type": "execute_result"
    }
   ],
   "source": [
    "SC, B2, B1 = symbols('SC B2 B1')\n",
    "minterms_SR = [[0, 0, 1]]\n",
    "dontcare_SR = [[0, 0, 0], [0, 1, 1], [1, 0, 0], [1, 0, 1], [1, 1, 1]]\n",
    "SR = SOPform([SC, B2, B1], minterms_SR, dontcare_SR)\n",
    "SR"
   ]
  },
  {
   "cell_type": "code",
   "execution_count": 6,
   "id": "09f98936-8e2a-4b70-8649-8595ee8a21ec",
   "metadata": {},
   "outputs": [
    {
     "name": "stdout",
     "output_type": "stream",
     "text": [
      "Y1 = (A & ~B) | (B & ~A)\n",
      "Y2 = ~B\n"
     ]
    }
   ],
   "source": [
    "\n",
    "\n",
    "A, B = symbols('A B')\n",
    "minterms_Y1 = [[0, 1], [1, 0]]  # Filas donde Y1=1\n",
    "minterms_Y2 = [[0, 0], [1, 0]]  # Filas donde Y2=1\n",
    "\n",
    "# Obtener expresiones SOP\n",
    "Y1 = SOPform([A, B], minterms_Y1)\n",
    "Y2 = SOPform([A, B], minterms_Y2)\n",
    "\n",
    "print(\"Y1 =\", Y1)  # Y1 = (A & ~B) | (~A & B)\n",
    "print(\"Y2 =\", Y2)  # Y2 = ~B"
   ]
  },
  {
   "cell_type": "code",
   "execution_count": null,
   "id": "8888dbbc-376e-40c4-94a5-76d333180391",
   "metadata": {},
   "outputs": [],
   "source": [
    "from sympy.logic import SOPform\n",
    "from sympy import symbols\n",
    "\n",
    "# Variables:\n",
    "A, B, C = symbols('A B C')\n",
    "\n",
    "# Minterminos (donde la salida es 1):\n",
    "minterms = [[0, 0, 1], [1, 0, 0]]  # Ej: Y=1 en A=0,B=0,C=1 y A=1,B=0,C=0\n",
    "\n",
    "# Don't cares (donde la salida puede ser 0 o 1):\n",
    "dontcares = [[1, 1, 0], [0, 1, 1]]  # Ej: Y es indiferente en estas combinaciones\n",
    "\n",
    "# Minimización considerando don't cares:\n",
    "expr_minimizada = SOPform([A, B, C], minterms, dontcares)\n",
    "print(expr_minimizada)"
   ]
  },
  {
   "cell_type": "code",
   "execution_count": 3,
   "id": "ef91079d-c19e-488a-a9c6-6e268a348ffa",
   "metadata": {},
   "outputs": [],
   "source": [
    "from sympy.logic import SOPform\n",
    "from sympy import symbols"
   ]
  },
  {
   "cell_type": "code",
   "execution_count": 4,
   "id": "bc89d717-940d-4dc1-ba11-c8a8b4165ad3",
   "metadata": {},
   "outputs": [],
   "source": [
    "A, B = symbols('A B')\n",
    "minterms_Y1 = [[0, 1], [1, 0]]\n",
    "minterms_Y2 = [[0, 0], [1, 0]]"
   ]
  },
  {
   "cell_type": "code",
   "execution_count": 5,
   "id": "e73e79ad-fdb6-46ea-9846-ca1a168db3d1",
   "metadata": {},
   "outputs": [
    {
     "data": {
      "text/latex": [
       "$\\displaystyle \\left(A \\wedge \\neg B\\right) \\vee \\left(B \\wedge \\neg A\\right)$"
      ],
      "text/plain": [
       "(A & ~B) | (B & ~A)"
      ]
     },
     "execution_count": 5,
     "metadata": {},
     "output_type": "execute_result"
    }
   ],
   "source": [
    "SOPform([A, B], minterms_Y1)"
   ]
  }
 ],
 "metadata": {
  "jupytext": {
   "formats": "ipynb,auto:percent"
  },
  "kernelspec": {
   "display_name": "Python 3 (ipykernel)",
   "language": "python",
   "name": "python3"
  },
  "language_info": {
   "codemirror_mode": {
    "name": "ipython",
    "version": 3
   },
   "file_extension": ".py",
   "mimetype": "text/x-python",
   "name": "python",
   "nbconvert_exporter": "python",
   "pygments_lexer": "ipython3",
   "version": "3.12.11"
  }
 },
 "nbformat": 4,
 "nbformat_minor": 5
}
